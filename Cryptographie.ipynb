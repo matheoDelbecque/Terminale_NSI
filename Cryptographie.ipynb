{
 "cells": [
  {
   "cell_type": "markdown",
   "metadata": {},
   "source": [
    "# Problématique\n",
    "\n",
    "![problematique](img/problematique.png)\n",
    "\n",
    "Bob et Alice aimeraient bien échanger des informations confidentielles via internet mais des espions et autres hackers rodent, ils peuvent intercepter les messages...\n",
    "\n",
    "Q1. En une courte phrase, décrire la problématique à laquelle la cryptographie cherche à répondre et comment elle peut rendre service à Alice et Bob\n"
   ]
  },
  {
   "cell_type": "markdown",
   "metadata": {},
   "source": [
    "Réponse : "
   ]
  },
  {
   "cell_type": "markdown",
   "metadata": {},
   "source": [
    "## Définition\n",
    "\n",
    "Dans le langage courant, on utilise des mots comme \"crypter\", \"décrypter\" ou \"coder\", \"décoder\", mais en cryptographie, le véritable vocabulaire employé est **chiffrer** et **déchiffrer**. On parle donc de **chiffrement** et **déchiffrement**.\n",
    "\n",
    "Q2. Après avoir effectué une recherche sur internet, écrire VOTRE définition SIMPLE des trois termes suivants :\n",
    "\n",
    "* chiffrement (sans aborder la notion de chiffrement symétrique et asymétrique)\n",
    "    \n",
    "    Operation permettant de transformer/coder un message\n",
    "    \n",
    "    \n",
    "* déchiffrement\n",
    "\n",
    "    L'opération inverse du chiffrement, ramener le message à son état initiale\n",
    "    \n",
    "    \n",
    "* clé cryptographique (sans aborder la notion de clé privée ou publique)\n",
    "\n",
    "    ce qui permet le chiffrement des données"
   ]
  },
  {
   "cell_type": "markdown",
   "metadata": {},
   "source": [
    "Réponse :"
   ]
  },
  {
   "cell_type": "markdown",
   "metadata": {},
   "source": [
    "Q3. Compléter le schéma ci-dessous avec les termes suivants : chiffrement, déchiffrement, clé, chiffré, déchiffré\n",
    "\n",
    "![definition](img/definition.png)"
   ]
  },
  {
   "cell_type": "markdown",
   "metadata": {},
   "source": [
    "# Chiffrement symétrique\n",
    "\n",
    "Dans le chiffrement symétrique, c'est **la même clé qui sert pour chiffrer et déchiffrer le message**\n",
    "\n",
    "La clé peut être \n",
    "\n",
    "* un nombre (Comme dans le [chiffrement de César](https://fr.wikipedia.org/wiki/Chiffrement_par_d%C3%A9calage))\n",
    "* une phrase (Comme dans la méthode du [masque jetable](https://fr.wikipedia.org/wiki/Masque_jetable))\n",
    "* une image\n",
    "\n",
    "\n",
    "## Exemple de chiffrement symétrique : le codage de César\n",
    "\n",
    "Vous pouvez regarder cette [vidéo](https://www.youtube.com/watch?v=8BM9LPDjOw0&t=17s) du début jusqu'à 1min12sec\n",
    "\n",
    "Principe : On décale chaque lettre de `x` rangs dans l'ordre alphabétique. `x` étant la clé. Par exemple, si la clé vaut 3 on remplace :\n",
    "\n",
    "* A par D\n",
    "* B par E\n",
    "* ...\n",
    "* Z par C\n",
    "\n",
    "Q4. Compléter et tester le code des fonctions `chiffrementCesar` et `dechiffrementCesar`. Pour cela, on utilisera la [table ASCII](https://commons.wikimedia.org/wiki/File:ASCII-Table-wide.svg), les fonctions natives `ord` et `chr` ainsi que l'opérateur modulo `%`"
   ]
  },
  {
   "cell_type": "code",
   "execution_count": 7,
   "metadata": {},
   "outputs": [
    {
     "name": "stdout",
     "output_type": "stream",
     "text": [
      "FOJXED\n"
     ]
    }
   ],
   "source": [
    "def chiffrementCesar(message, cle):\n",
    "    \"\"\"\n",
    "    Description : Chiffre un message en utilisant le codage de Cesar\n",
    "    message (str) : message à chiffrer\n",
    "    cle (int) : décalage utilisé\n",
    "    précondition : message n'est composé uniquement que des lettres majuscules\n",
    "    return (str) : message chiffré\n",
    "    \"\"\"\n",
    "    # Vérification de la précondition\n",
    "    assert message.isupper(), 'Erreur : message pas en majuscule'\n",
    "    # Code à compléter\n",
    "    m_code = ''\n",
    "    for e in message:\n",
    "        m_code += chr(((ord(e)-64 + cle) % 26) + 64)\n",
    "    return m_code\n",
    "\n",
    "print(chiffrementCesar('PYTHON',16))"
   ]
  },
  {
   "cell_type": "code",
   "execution_count": 9,
   "metadata": {},
   "outputs": [
    {
     "name": "stdout",
     "output_type": "stream",
     "text": [
      "PYTHON\n"
     ]
    }
   ],
   "source": [
    "def dechiffrementCesar(message, cle):\n",
    "    \"\"\"\n",
    "    Description : Déchiffre un message en utilisant le codage de Cesar\n",
    "    message (str) : message à déchiffrer\n",
    "    cle (int) : décalage utilisé\n",
    "    précondition : message n'est composé uniquement que des lettres majuscules\n",
    "    return (str) : message déchiffré\n",
    "    \"\"\"\n",
    "    # Vérification de la précondition\n",
    "    assert message.isupper(), 'Erreur : message pas en majuscule'\n",
    "    # Code à compléter\n",
    "    m_code = ''\n",
    "    for e in message:\n",
    "        m_code += chr(((ord(e)-64 - cle) % 26) + 64)\n",
    "    return m_code\n",
    "\n",
    "print(dechiffrementCesar(chiffrementCesar('PYTHON',16),16))"
   ]
  },
  {
   "cell_type": "markdown",
   "metadata": {},
   "source": [
    "\n",
    "## Exemple de chiffrement symétrique : la méthode du [masque jetable](https://fr.wikipedia.org/wiki/Masque_jetable)\n",
    "\n",
    "Regardez cette [vidéo](https://www.youtube.com/watch?v=8BM9LPDjOw0&t=17s) de 3min36sec jusqu'à 4min28sec.\n",
    "\n",
    "### Opération Ou-exclusif bit à bit (XOR)\n",
    "\n",
    "Q5. Rappeler la table de vérité d'un opérateur logique Ou-exclusif.\n",
    "\n",
    "Q6. En déduire le résultat du XOR bit à bit entre 27 et 85\n",
    "\n",
    "Q7. En python, l'opérateur `^` est l'opérareur XOR bit à bit. **Il peut s'utiliser sur des entiers uniquement**. Vérifier le résultat de la question précédente.\n",
    "\n",
    "### Méthode du [masque jetable](https://fr.wikipedia.org/wiki/Masque_jetable)\n",
    "\n",
    "Q8. On considère la variable `masque = \"CETTEPHRASEESTVRAIMENTTRESTRESLONGUEMAISCESTFAITEXPRES\"`. (C'est bien sûr un exemple). Cette méthode consiste à faire un XOR bit à bit entre chaque caractère du message à chiffrer et le caractère du masque. Compléter et tester le code des fonctions `chiffrementMasqueJetable`. Pour cela, on utilisera la [table ASCII](https://commons.wikimedia.org/wiki/File:ASCII-Table-wide.svg) et les fonctions natives `ord` et `chr`.\n",
    "\n",
    "Remarquez que l'opérateur XOR bit à bit est une opération symétrique. Par exemple\n",
    "```python\n",
    ">>> 34 ^ 23\n",
    "53\n",
    ">>> 53 ^ 23\n",
    "34\n",
    "```\n",
    "\n",
    "Q9. Que pouvez-vous en déduire pour la fonction `dechiffrementMasqueJetable` ?"
   ]
  },
  {
   "cell_type": "code",
   "execution_count": null,
   "metadata": {},
   "outputs": [],
   "source": [
    "def chiffrementMasqueJetable(message, masque):\n",
    "    \"\"\"\n",
    "    Description : Chiffre un message en utilisant la méthode du masque jetable\n",
    "    message (str) : message à chiffrer\n",
    "    masque (str) : masque utilisé\n",
    "    return (str) : message chiffré\n",
    "    \"\"\"\n",
    "    # Code à compléter\n",
    "    m_code = ''\n",
    "    for i in range(len(message)) :\n",
    "        m_code += chr(ord(message[i]) ^ ord(masque[i]))\n",
    "    return m_code"
   ]
  },
  {
   "cell_type": "markdown",
   "metadata": {},
   "source": [
    "### Inviolabilité du chiffrement par masque jetable\n",
    "\n",
    "Si le masque avec lequel on effectue le XOR sur le message est aussi long que le message, alors il est **impossible** de retrouver le message initial. Pourquoi ?\n",
    "\n",
    "Imaginons qu'Alice veuille transmettre le message clair \"LUNDI\". Elle le chiffre avec un masque jetable (que connait aussi Bob), et Bob reçoit donc \"KHZOK\". Si Marc a intercepté le message \"KHZOK\", même s'il sait que la méthode de chiffrement utilisée est celle du masque jetable, il n'a pas d'autre choix que de tester tous les masques de 5 lettres possibles.\n",
    "\n",
    "Ce qui lui donne $26^5$ possibilités (plus de 11 millions) pour le masque, et par conséquent $26^5$ possibilités pour le message «déchiffré»...\n",
    "\n",
    "Cela signifie que Marc verra apparaître, dans sa tentative de déchiffrage, les mots \"MARDI\", \"JEUDI\", \"JOUDI\", \"STYLO\", \"FSDJK\", \"LUNDI\", \"LUNDA\"... Il n'a donc aucune possibilité de savoir où est le bon message original parmi toutes les propositions."
   ]
  },
  {
   "cell_type": "markdown",
   "metadata": {},
   "source": [
    "## Bonus : Exemple de chiffrement symétrique : Utilisation d'une image\n",
    "\n",
    "La clé est une image composé de pixels (c'est-à-dire de nombres...). Pour chiffrer un message, il suffit de \"XORiser\" celui-ci avec l'image clé.\n",
    "\n",
    "A l'aide du module [PIL](https://he-arc.github.io/livre-python/pillow/index.html) et notamment de sa méthode `getpixel`, écrire le code de la fonction `chiffrementParCleImage`"
   ]
  },
  {
   "cell_type": "code",
   "execution_count": null,
   "metadata": {},
   "outputs": [],
   "source": [
    "def chiffrementParCleImage(message, nomImage):\n",
    "    \"\"\"\n",
    "    Description : Chiffre un message en utilisant une clé image\n",
    "    message (str) : message à chiffrer\n",
    "    nomImage (str) : chemin vers l'image clé\n",
    "    return (str) : message chiffré\n",
    "    \"\"\"\n",
    "    # Code à compléter\n",
    "    ... "
   ]
  },
  {
   "cell_type": "markdown",
   "metadata": {},
   "source": [
    "## Chiffrement symétrique utilisé de nos jours\n",
    "\n",
    "L'algorithme de chiffrement symétrique le plus utilisé actuellement est le chiffrement [AES](https://fr.wikipedia.org/wiki/Advanced_Encryption_Standard), pour Advanced Encryption Standard.\n",
    "\n",
    "* Chiffrement par bloc de 128 bits, répartis dans une matrice de 16 octets (matrice carrée de taille 4).\n",
    "* Ces 128 bits sont transformés par des rotations, multiplications, transpositions, [...] de la matrice initiale, en faisant intervenir dans ces transformations une clé de 128, 192 ou 256 bits.\n",
    "* Pour l'AES-256 (avec une clé de 256 bits), l'attaque par force brute nécessiterait $2^{256}$\n",
    "opérations, soit un nombre à 78 chiffres...\n",
    "* Il n'existe pas d'attaque connue efficace à ce jour. Les seules attaques sont des attaques sur des faiblesses d'implémentation, ou par [canal auxiliaire](https://fr.wikipedia.org/wiki/Attaque_par_canal_auxiliaire).\n",
    "\n",
    "## Synthèse sur le chiffrement symétrique\n",
    "\n",
    "![chiffrement symétrique](img/chiffrementSymétrique.png)\n",
    "\n",
    "* Même clé pour chiffrer et déchiffrer le message\n",
    "* Avantages : le chiffrement symétrique est rapide, consomme peu de ressources et est donc adapté au chiffrement de flux important d'informations\n",
    "* Inconvénient : Le seul inconvénient du chiffrement symétrique est le problème du \"partage de clef\"\n",
    "\n",
    "Q10. Expliciter ce qu'est le problème du \"partage de clé\" et pourquoi il peut représenter une possible faille dans le chiffrement symétrique. "
   ]
  },
  {
   "cell_type": "markdown",
   "metadata": {},
   "source": [
    "# [Chiffrement asymétrique](https://fr.wikipedia.org/wiki/Cryptographie_asym%C3%A9trique)\n",
    "\n",
    "Le [chiffrement asymétrique](https://fr.wikipedia.org/wiki/Cryptographie_asym%C3%A9trique) vient résoudre l'inconvénient essentiel du chiffrement symétrique : le nécessaire partage d'un secret (la clé) avant l'établissement de la communication sécurisée.  \n",
    "Actuellement, le **[chiffrement RSA](https://fr.wikipedia.org/wiki/Chiffrement_RSA)** est le chiffrement asymétrique le plus massivement utilisé.\n",
    "\n",
    "## Principe du chiffrement asymétrique \n",
    "\n",
    "* Le principe de base est l'existence d'une **clé publique**, appelée à être distribuée à tous ceux avec qui on souhaite communiquer, et d'une **clé privée**, qui ne quitte jamais son propriétaire.\n",
    "* Tout ce qui est chiffré par la clé publique ne peut être déchiffré qu'avec la clé privée\n",
    "\n",
    "![chiffrement asymétrique](img/asym.png)\n",
    "\n",
    "## Attaque de l'homme du milieu\n",
    "\n",
    "## Caractéristiques du chiffrement asymétrique\n",
    "\n",
    "* Avantage : Résoud le problème du partage de clé\n",
    "* Inconvénient : Grande consommation de ressources matérielles. Vulnérable à l'[attaque de l'homme du milieu](https://fr.wikipedia.org/wiki/Attaque_de_l%27homme_du_milieu)\n",
    "\n",
    "# Le protocole [HTTPS](https://en.wikipedia.org/wiki/HTTPS)"
   ]
  }
 ],
 "metadata": {
  "kernelspec": {
   "display_name": "Python 3",
   "language": "python",
   "name": "python3"
  },
  "language_info": {
   "codemirror_mode": {
    "name": "ipython",
    "version": 3
   },
   "file_extension": ".py",
   "mimetype": "text/x-python",
   "name": "python",
   "nbconvert_exporter": "python",
   "pygments_lexer": "ipython3",
   "version": "3.6.9"
  }
 },
 "nbformat": 4,
 "nbformat_minor": 5
}
